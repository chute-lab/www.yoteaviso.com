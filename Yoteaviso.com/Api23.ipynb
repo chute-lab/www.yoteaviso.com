{
 "cells": [
  {
   "cell_type": "code",
   "execution_count": 1,
   "metadata": {},
   "outputs": [],
   "source": [
    "import pandas as pd\n",
    "\n",
    "\n",
    "data = pd.read_csv(\"precio-venta-deptos.csv\")\n",
    "dataframe = pd.DataFrame(data)\n",
    "\n",
    "\n",
    "data_limpio= dataframe.loc[:,['barrio','precio_prom','año']]\n",
    "\n",
    "data_validada = data_limpio[data_limpio.precio_prom.notna()]\n",
    "#Aca estamos filtrando para que nos muestre los valores mas actualizados (anio 2019)\n",
    "validado3= data_validada[data_validada.año > 2018 ]\n",
    "# Aca estamos sacando los barrios que estaban duplicados\n",
    "test = validado3.drop_duplicates(subset=['barrio'])\n",
    "#Aca estamos sacando el indice de las columnas, pq quedaba mal\n",
    "sin_indice = test.set_index('barrio')"
   ]
  }
 ],
 "metadata": {
  "interpreter": {
   "hash": "aee8b7b246df8f9039afb4144a1f6fd8d2ca17a180786b69acc140d282b71a49"
  },
  "kernelspec": {
   "display_name": "Python 3.9.2 64-bit",
   "name": "python3"
  },
  "language_info": {
   "codemirror_mode": {
    "name": "ipython",
    "version": 3
   },
   "file_extension": ".py",
   "mimetype": "text/x-python",
   "name": "python",
   "nbconvert_exporter": "python",
   "pygments_lexer": "ipython3",
   "version": "3.9.2"
  },
  "orig_nbformat": 4
 },
 "nbformat": 4,
 "nbformat_minor": 2
}
